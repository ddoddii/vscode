{
 "cells": [
  {
   "cell_type": "code",
   "execution_count": 37,
   "metadata": {},
   "outputs": [],
   "source": [
    "from time import sleep\n",
    "import requests\n",
    "import json\n",
    "import os\n",
    "import os.path\n",
    "import pandas as pd\n",
    "from datetime import datetime, timedelta\n",
    "from selenium import webdriver\n",
    "import schedule\n",
    "import time"
   ]
  },
  {
   "cell_type": "code",
   "execution_count": 47,
   "metadata": {},
   "outputs": [
    {
     "name": "stderr",
     "output_type": "stream",
     "text": [
      "/var/folders/hn/cd349ymj15z52npp7jj0gfnc0000gn/T/ipykernel_56247/1864794955.py:1: DeprecationWarning: executable_path has been deprecated, please pass in a Service object\n",
      "  driver = webdriver.Chrome(r'/usr/local/bin/chromedriver')\n",
      "/var/folders/hn/cd349ymj15z52npp7jj0gfnc0000gn/T/ipykernel_56247/1864794955.py:12: DeprecationWarning: find_element_by_* commands are deprecated. Please use find_element() instead\n",
      "  driver.find_element_by_xpath('/html/body/article/section/div[2]/div[2]').click()\n",
      "/var/folders/hn/cd349ymj15z52npp7jj0gfnc0000gn/T/ipykernel_56247/1864794955.py:13: DeprecationWarning: find_element_by_* commands are deprecated. Please use find_element() instead\n",
      "  driver.find_element_by_name('phone').send_keys('01043376988')\n",
      "/var/folders/hn/cd349ymj15z52npp7jj0gfnc0000gn/T/ipykernel_56247/1864794955.py:14: DeprecationWarning: find_element_by_* commands are deprecated. Please use find_element() instead\n",
      "  driver.find_element_by_name('password').send_keys('Sed05062!@')\n",
      "/var/folders/hn/cd349ymj15z52npp7jj0gfnc0000gn/T/ipykernel_56247/1864794955.py:15: DeprecationWarning: find_element_by_* commands are deprecated. Please use find_element() instead\n",
      "  driver.find_element_by_xpath('/html/body/article/section/div[3]/form/div[2]/input[1]').click()\n"
     ]
    },
    {
     "name": "stdout",
     "output_type": "stream",
     "text": [
      "c8c3a3b5ce866a7d9570e855e1917c3f0167c3dcd206f5e0b32fe0ed3c7d736a\n"
     ]
    }
   ],
   "source": [
    "driver = webdriver.Chrome(r'/usr/local/bin/chromedriver')\n",
    "url = 'https://auth.enertalk.com/authorization'   \n",
    "headers = {\"Content-Type\": \"application/json\"}\n",
    "params = {\n",
    "        \"client_id\": \"aWJrMTkzMEBnbWFpbC5jb21fYTU3Mg==\",\n",
    "        \"response_type\": \"code\",\n",
    "        \"redirect_uri\": \"http://localhost:8080/callback\"\n",
    "    }   \n",
    "response = requests.get(url, headers=headers, params=params) \n",
    "driver.get(response.url)\n",
    "driver.implicitly_wait(3)\n",
    "driver.find_element_by_xpath('/html/body/article/section/div[2]/div[2]').click()\n",
    "driver.find_element_by_name('phone').send_keys('01043376988')\n",
    "driver.find_element_by_name('password').send_keys('Sed05062!@')\n",
    "driver.find_element_by_xpath('/html/body/article/section/div[3]/form/div[2]/input[1]').click()\n",
    "received_code = driver.current_url.split('code=')[-1]\n",
    "driver.quit()\n",
    "print(received_code)"
   ]
  },
  {
   "cell_type": "code",
   "execution_count": null,
   "metadata": {},
   "outputs": [],
   "source": []
  }
 ],
 "metadata": {
  "interpreter": {
   "hash": "41c6254e53ad09b4e750c611f7ef2b0f38c395d0f4d19647132b0675946b7afb"
  },
  "kernelspec": {
   "display_name": "Python 3.9.5 64-bit (system)",
   "language": "python",
   "name": "python3"
  },
  "language_info": {
   "codemirror_mode": {
    "name": "ipython",
    "version": 3
   },
   "file_extension": ".py",
   "mimetype": "text/x-python",
   "name": "python",
   "nbconvert_exporter": "python",
   "pygments_lexer": "ipython3",
   "version": "3.9.7"
  },
  "orig_nbformat": 4
 },
 "nbformat": 4,
 "nbformat_minor": 2
}
